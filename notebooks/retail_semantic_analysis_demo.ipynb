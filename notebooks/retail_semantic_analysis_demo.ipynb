{
 "cells": [
  {
   "cell_type": "markdown",
   "metadata": {},
   "source": [
    "# Retail Semantic Analysis Demo\n",
    "This notebook demonstrates the complete pipeline for retail semantic analysis including data preprocessing, sentiment analysis, topic modeling, and visualization generation."
   ]
  },
  {
   "cell_type": "code",
   "execution_count": null,
   "metadata": {},
   "outputs": [],
   "source": [
    "import sys\n",
    "sys.path.append('../src')\n",
    "\n",
    "import pandas as pd\n",
    "import numpy as np\n",
    "import matplotlib.pyplot as plt\n",
    "import seaborn as sns\n",
    "from datetime import datetime\n",
    "import warnings\n",
    "warnings.filterwarnings('ignore')\n",
    "\n",
    "# Import our custom modules\n",
    "from data_loader import RetailDataLoader\n",
    "from preprocessor import RetailTextPreprocessor\n",
    "from sentiment_analyzer import RetailSentimentAnalyzer\n",
    "from topic_modeling import RetailTopicModeler\n",
    "from visualizations import RetailVisualizationGenerator\n",
    "\n",
    "print(\"All modules imported successfully!\")"
   ]
  },
  {
   "cell_type": "markdown",
   "metadata": {},
   "source": [
    "## 1. Data Loading and Preparation"
   ]
  },
  {
   "cell_type": "code",
   "execution_count": null,
   "metadata": {},
   "outputs": [],
   "source": [
    "# Initialize data loader\n",
    "loader = RetailDataLoader()\n",
    "\n",
    "# For demo purposes, create a sample dataset\n",
    "# In practice, you would load real data using:\n",
    "# loader.download_amazon_reviews()\n",
    "# df = loader.load_amazon_reviews()\n",
    "\n",
    "# Create sample dataset for demonstration\n",
    "df = loader.create_sample_dataset(size=1000)\n",
    "print(f\"Dataset loaded with {len(df)} reviews\")\n",
    "print(\"\\nDataset info:\")\n",
    "print(df.info())\n",
    "print(\"\\nFirst few rows:\")\n",
    "df.head()"
   ]
  },
  {
   "cell_type": "markdown",
   "metadata": {},
   "source": [
    "## 2. Data Preprocessing"
   ]
  },
  {
   "cell_type": "code",
   "execution_count": null,
   "metadata": {},
   "outputs": [],
   "source": [
    "# Initialize preprocessor\n",
    "preprocessor = RetailTextPreprocessor()\n",
    "\n",
    "# Preprocess the dataset\n",
    "df_processed = preprocessor.preprocess_dataframe(df, text_column='review_text')\n",
    "\n",
    "print(f\"Processed dataset has {len(df_processed)} reviews\")\n",
    "print(\"\\nText statistics:\")\n",
    "stats = preprocessor.get_text_statistics(df_processed)\n",
    "print(stats)\n",
    "\n",
    "# Show example of preprocessing\n",
    "print(\"\\nExample of preprocessing:\")\n",
    "print(\"Original:\", df['review_text'].iloc[0])\n",
    "print(\"Processed:\", df_processed['review_text_clean'].iloc[0])"
   ]
  },
  {
   "cell_type": "markdown",
   "metadata": {},
   "source": [
    "## 3. Sentiment Analysis"
   ]
  },
  {
   "cell_type": "code",
   "execution_count": null,
   "metadata": {},
   "outputs": [],
   "source": [
    "# Initialize sentiment analyzer\n",
    "sentiment_analyzer = RetailSentimentAnalyzer(model_type='textblob')\n",
    "\n",
    "# Analyze sentiment\n",
    "df_sentiment = sentiment_analyzer.analyze_dataframe(df_processed)\n",
    "\n",
    "print(\"Sentiment analysis completed!\")\n",
    "print(\"\\nSentiment distribution:\")\n",
    "sentiment_dist = sentiment_analyzer.get_sentiment_distribution(df_sentiment)\n",
    "print(sentiment_dist)\n",
    "\n",
    "# Show example results\n",
    "print(\"\\nExample sentiment analysis:\")\n",
    "for i in range(3):\n",
    "    print(f\"Text: {df_sentiment['review_text_clean'].iloc[i][:50]}...\")\n",
    "    print(f\"Sentiment: {df_sentiment['sentiment_sentiment'].iloc[i]}\")\n",
    "    print(f\"Confidence: {df_sentiment['sentiment_confidence'].iloc[i]:.3f}\")\n",
    "    print()"
   ]
  },
  {
   "cell_type": "markdown",
   "metadata": {},
   "source": [
    "## 4. Topic Modeling"
   ]
  },
  {
   "cell_type": "code",
   "execution_count": null,
   "metadata": {},
   "outputs": [],
   "source": [
    "# Initialize topic modeler\n",
    "topic_modeler = RetailTopicModeler(method='lda')\n",
    "\n",
    "# Fit topic model\n",
    "texts = df_sentiment['review_text_clean'].tolist()\n",
    "topic_modeler.fit_topic_model(texts, num_topics=5)\n",
    "\n",
    "# Get topic words\n",
    "topic_words = topic_modeler.get_topic_words(num_words=10)\n",
    "print(\"Topic words:\")\n",
    "for i, words in enumerate(topic_words):\n",
    "    print(f\"Topic {i}: {', '.join(words)}\")\n",
    "\n",
    "# Create topic summary\n",
    "topic_summary = topic_modeler.create_topic_summary(texts)\n",
    "print(\"\\nTopic summary:\")\n",
    "print(topic_summary[['topic_id', 'top_words', 'document_count', 'percentage']])"
   ]
  },
  {
   "cell_type": "markdown",
   "metadata": {},
   "source": [
    "## 5. Visualization Generation"
   ]
  },
  {
   "cell_type": "code",
   "execution_count": null,
   "metadata": {},
   "outputs": [],
   "source": [
    "# Initialize visualization generator\n",
    "viz_generator = RetailVisualizationGenerator()\n",
    "\n",
    "# Create sentiment distribution plot\n",
    "fig1 = viz_generator.plot_sentiment_distribution(df_sentiment)\n",
    "plt.show()\n",
    "\n",
    "# Create sentiment by category plot\n",
    "fig2 = viz_generator.plot_sentiment_by_category(df_sentiment)\n",
    "plt.show()\n",
    "\n",
    "# Create topic distribution plot\n",
    "fig3 = viz_generator.plot_topic_distribution(topic_summary)\n",
    "plt.show()"
   ]
  },
  {
   "cell_type": "markdown",
   "metadata": {},
   "source": [
    "## 6. Word Cloud Generation"
   ]
  },
  {
   "cell_type": "code",
   "execution_count": null,
   "metadata": {},
   "outputs": [],
   "source": [
    "# Create word cloud for all reviews\n",
    "all_text = ' '.join(df_sentiment['review_text_clean'].tolist())\n",
    "wordcloud = viz_generator.create_word_cloud(all_text, title=\"Customer Reviews Word Cloud\")\n",
    "plt.show()\n",
    "\n",
    "# Create word clouds for each sentiment\n",
    "for sentiment in ['positive', 'negative', 'neutral']:\n",
    "    if sentiment in df_sentiment['sentiment_sentiment'].values:\n",
    "        sentiment_text = ' '.join(\n",
    "            df_sentiment[df_sentiment['sentiment_sentiment'] == sentiment]['review_text_clean'].tolist()\n",
    "        )\n",
    "        if sentiment_text.strip():\n",
    "            wordcloud = viz_generator.create_word_cloud(\n",
    "                sentiment_text, \n",
    "                title=f\"{sentiment.capitalize()} Reviews Word Cloud\"\n",
    "            )\n",
    "            plt.show()"
   ]
  },
  {
   "cell_type": "markdown",
   "metadata": {},
   "source": [
    "## 7. Comprehensive Dashboard"
   ]
  },
  {
   "cell_type": "code",
   "execution_count": null,
   "metadata": {},
   "outputs": [],
   "source": [
    "# Create comprehensive dashboard\n",
    "dashboard = viz_generator.create_comprehensive_dashboard(df_sentiment, topic_summary)\n",
    "plt.show()"
   ]
  },
  {
   "cell_type": "markdown",
   "metadata": {},
   "source": [
    "## 8. Business Intelligence Insights"
   ]
  },
  {
   "cell_type": "code",
   "execution_count": null,
   "metadata": {},
   "outputs": [],
   "source": [
    "# Generate business insights\n",
    "insights = {\n",
    "    'total_reviews': len(df_sentiment),\n",
    "    'sentiment_distribution': df_sentiment['sentiment_sentiment'].value_counts().to_dict(),\n",
    "    'avg_confidence': df_sentiment['sentiment_confidence'].mean(),\n",
    "    'category_performance': df_sentiment.groupby('product_category')['sentiment_sentiment'].value_counts().to_dict(),\n",
    "    'top_topics': topic_summary[['topic_id', 'top_words', 'percentage']].to_dict('records')\n",
    "}\n",
    "\n",
    "print(\"=== BUSINESS INTELLIGENCE INSIGHTS ===\")\n",
    "print(f\"Total Reviews Analyzed: {insights['total_reviews']:,}\")\n",
    "print(f\"Average Sentiment Confidence: {insights['avg_confidence']:.3f}\")\n",
    "print(\"\\nSentiment Distribution:\")\n",
    "for sentiment, count in insights['sentiment_distribution'].items():\n",
    "    percentage = (count / insights['total_reviews']) * 100\n",
    "    print(f\"  {sentiment.capitalize()}: {count:,} ({percentage:.1f}%)\")\n",
    "\n",
    "print(\"\\nTop Topics:\")\n",
    "for topic in insights['top_topics']:\n",
    "    print(f\"  Topic {topic['topic_id']}: {topic['top_words'][:50]}... ({topic['percentage']:.1f}%)\")\n",
    "\n",
    "print(\"\\n=== ACTIONABLE RECOMMENDATIONS ===\")\n",
    "print(\"1. Monitor negative sentiment patterns for product improvement opportunities\")\n",
    "print(\"2. Leverage positive sentiment topics for marketing campaigns\")\n",
    "print(\"3. Address recurring issues identified in topic modeling\")\n",
    "print(\"4. Implement real-time sentiment monitoring for customer service\")\n",
    "print(\"5. Use topic trends to guide product development roadmap\")"
   ]
  },
  {
   "cell_type": "markdown",
   "metadata": {},
   "source": [
    "## 9. Save Results"
   ]
  },
  {
   "cell_type": "code",
   "execution_count": null,
   "metadata": {},
   "outputs": [],
   "source": [
    "# Save processed data\n",
    "loader.save_processed_data(df_sentiment, 'analyzed_reviews.csv')\n",
    "loader.save_processed_data(topic_summary, 'topic_summary.csv')\n",
    "\n",
    "# Save all visualizations\n",
    "viz_generator.save_all_plots(df_sentiment, topic_summary)\n",
    "\n",
    "print(\"Analysis complete! Results saved to:\")\n",
    "print(\"- data/processed/analyzed_reviews.csv\")\n",
    "print(\"- data/processed/topic_summary.csv\")\n",
    "print(\"- figures/ (all visualization plots)\")"
   ]
  }
 ],
 "metadata": {
  "kernelspec": {
   "display_name": "Python 3",
   "language": "python",
   "name": "python3"
  },
  "language_info": {
   "codemirror_mode": {
    "name": "ipython",
    "version": 3
   },
   "file_extension": ".py",
   "mimetype": "text/x-python",
   "name": "python",
   "nbconvert_exporter": "python",
   "pygments_lexer": "ipython3",
   "version": "3.8.5"
  }
 },
 "nbformat": 4,
 "nbformat_minor": 4
}